{
 "cells": [
  {
   "cell_type": "markdown",
   "id": "9ec97617-1e58-42f8-a73e-d52e0141b9ea",
   "metadata": {},
   "source": [
    "# Policy learning with Linear Features on Mountain Car"
   ]
  },
  {
   "cell_type": "code",
   "execution_count": 1,
   "id": "194acec8-d742-46de-899c-5a745664d4df",
   "metadata": {
    "tags": []
   },
   "outputs": [],
   "source": [
    "from utils.performer import Performer\n",
    "from utils.interpreters import gym_interpreter1\n",
    "from agents.linearPolicy import LinearPolicy, LinearV\n",
    "from utils.plot_utils import PlotPolicyApprox2D"
   ]
  },
  {
   "cell_type": "markdown",
   "id": "db808e28-9732-4d57-8fb1-277fe63b08fc",
   "metadata": {},
   "source": [
    "## Using identity features\n"
   ]
  },
  {
   "cell_type": "code",
   "execution_count": 2,
   "id": "5906d1fb-e6a0-49e0-9331-acb4a3735ac2",
   "metadata": {
    "tags": []
   },
   "outputs": [],
   "source": [
    "policy_parameters = {'nA':3,\n",
    "                     'nS':2,\n",
    "                     'alpha':1e-5,\n",
    "                     'beta':1,\n",
    "                     'gamma':0.99\n",
    "                     }\n",
    "policy = LinearPolicy(parameters=policy_parameters)"
   ]
  },
  {
   "cell_type": "code",
   "execution_count": 5,
   "id": "7a0de0ae-eed3-4a7a-90fe-da72ecea7620",
   "metadata": {},
   "outputs": [
    {
     "name": "stdout",
     "output_type": "stream",
     "text": [
      "Probabilities for actions: [0.30568257 0.35000448 0.34431295]\n"
     ]
    }
   ],
   "source": [
    "state = [-.5, .01]\n",
    "action_probabilities = policy.predict(state=state)\n",
    "print('Probabilities for actions:', action_probabilities)"
   ]
  },
  {
   "cell_type": "code",
   "execution_count": 6,
   "id": "515e0a74-fc8a-4a23-bf75-ab9d5a59ddc6",
   "metadata": {},
   "outputs": [],
   "source": [
    "value_fn_parameters = {'nA':3,\n",
    "                       'nS':2,\n",
    "                       'alpha':1e-5,\n",
    "                       'beta':1,\n",
    "                       'gamma':0.99\n",
    "                       }\n",
    "value_approximator = LinearV(parameters=value_fn_parameters)"
   ]
  },
  {
   "cell_type": "code",
   "execution_count": 8,
   "id": "3a4c8820-d3cc-4545-80fb-b900dcd9aee7",
   "metadata": {},
   "outputs": [
    {
     "name": "stdout",
     "output_type": "stream",
     "text": [
      "Predicted state value: -0.4022079532454878\n"
     ]
    }
   ],
   "source": [
    "state_value = value_approximator.predict(state=state)\n",
    "print('Predicted state value:', state_value)"
   ]
  },
  {
   "cell_type": "code",
   "execution_count": null,
   "id": "56b23bec-fa86-4a9a-975a-30b02b5cf359",
   "metadata": {},
   "outputs": [],
   "source": []
  },
  {
   "cell_type": "code",
   "execution_count": 9,
   "id": "90b3c70e-71e0-4c89-9ca5-d469db55e937",
   "metadata": {},
   "outputs": [
    {
     "ename": "NameError",
     "evalue": "name 'perf' is not defined",
     "output_type": "error",
     "traceback": [
      "\u001b[0;31m---------------------------------------------------------------------------\u001b[0m",
      "\u001b[0;31mNameError\u001b[0m                                 Traceback (most recent call last)",
      "Cell \u001b[0;32mIn[9], line 3\u001b[0m\n\u001b[1;32m      1\u001b[0m dict_acciones \u001b[38;5;241m=\u001b[39m {\u001b[38;5;241m0\u001b[39m:\u001b[38;5;124m\"\u001b[39m\u001b[38;5;124m⬅\u001b[39m\u001b[38;5;124m\"\u001b[39m, \u001b[38;5;241m1\u001b[39m:\u001b[38;5;124m\"\u001b[39m\u001b[38;5;124mN\u001b[39m\u001b[38;5;124m\"\u001b[39m, \u001b[38;5;241m2\u001b[39m:\u001b[38;5;124m\"\u001b[39m\u001b[38;5;124m➡\u001b[39m\u001b[38;5;124m\"\u001b[39m}\n\u001b[1;32m      2\u001b[0m state_scales \u001b[38;5;241m=\u001b[39m [[\u001b[38;5;241m-\u001b[39m\u001b[38;5;241m1.2\u001b[39m, \u001b[38;5;241m0.6\u001b[39m], [\u001b[38;5;241m-\u001b[39m\u001b[38;5;241m0.07\u001b[39m, \u001b[38;5;241m0.07\u001b[39m]]\n\u001b[0;32m----> 3\u001b[0m policy_plot \u001b[38;5;241m=\u001b[39m PlotPolicyApprox2D(policy\u001b[38;5;241m=\u001b[39m\u001b[43mperf\u001b[49m\u001b[38;5;241m.\u001b[39magent\u001b[38;5;241m.\u001b[39mpolicy,\n\u001b[1;32m      4\u001b[0m                                  state_scales\u001b[38;5;241m=\u001b[39mstate_scales, \n\u001b[1;32m      5\u001b[0m                                  dict_acciones\u001b[38;5;241m=\u001b[39mdict_acciones,\n\u001b[1;32m      6\u001b[0m                                  mesh_size\u001b[38;5;241m=\u001b[39m\u001b[38;5;241m8\u001b[39m\n\u001b[1;32m      7\u001b[0m                                 )\n\u001b[1;32m      8\u001b[0m policy_plot\u001b[38;5;241m.\u001b[39mbest_actions_with_values(max_deci\u001b[38;5;241m=\u001b[39m\u001b[38;5;241m2\u001b[39m)\n",
      "\u001b[0;31mNameError\u001b[0m: name 'perf' is not defined"
     ]
    }
   ],
   "source": [
    "dict_acciones = {0:\"⬅\", 1:\"N\", 2:\"➡\"}\n",
    "state_scales = [[-1.2, 0.6], [-0.07, 0.07]]\n",
    "policy_plot = PlotPolicyApprox2D(policy=perf.agent.policy,\n",
    "                                 state_scales=state_scales, \n",
    "                                 dict_acciones=dict_acciones,\n",
    "                                 mesh_size=8\n",
    "                                )\n",
    "policy_plot.best_actions_with_values(max_deci=2)"
   ]
  },
  {
   "cell_type": "markdown",
   "id": "59df2f5f-6ab2-4ec8-8b0b-dafaa38985f4",
   "metadata": {},
   "source": [
    "## Using tile coding\n"
   ]
  },
  {
   "cell_type": "code",
   "execution_count": 17,
   "id": "2d21ee61-2b24-4b15-a5a8-35852c783a06",
   "metadata": {},
   "outputs": [],
   "source": [
    "policy_parameters = {'nA':3,\n",
    "                     'nS':2,\n",
    "                     'alpha':1e-5,\n",
    "                     'beta':1,\n",
    "                     'gamma':0.99\n",
    "                     }\n",
    "policy = LinearPolicy(parameters=policy_parameters)\n",
    "value_fn_parameters = {'nA':3,\n",
    "                       'nS':2,\n",
    "                       'alpha':1e-5,\n",
    "                       'beta':1,\n",
    "                       'gamma':0.99\n",
    "                       }\n",
    "value_approximator = LinearV(parameters=value_fn_parameters)\n",
    "agent_parameters = {'nA':3,\n",
    "                    'nS':2,\n",
    "                    'gamma':0.8,\n",
    "                    'policy':policy,\n",
    "                    'V':value_approximator\n",
    "                   }\n",
    "env_parameters = {}\n",
    "perf = Performer(env_name='MountainCar-v0',\n",
    "                 env_parameters=env_parameters,\n",
    "                 state_interpreter=gym_interpreter1,\n",
    "                 agent_name='agentsPG.ActorCritic',\n",
    "                 agent_parameters=agent_parameters)"
   ]
  },
  {
   "cell_type": "code",
   "execution_count": null,
   "id": "494a4146-06c2-4fd2-abec-cef7767d2798",
   "metadata": {},
   "outputs": [
    {
     "data": {
      "application/vnd.jupyter.widget-view+json": {
       "model_id": "69c7a7e825fb469183453f504f56289c",
       "version_major": 2,
       "version_minor": 0
      },
      "text/plain": [
       "  0%|          | 0/500 [00:00<?, ?it/s]"
      ]
     },
     "metadata": {},
     "output_type": "display_data"
    }
   ],
   "source": [
    "perf.train(num_rounds=5000, num_episodes=500)"
   ]
  },
  {
   "cell_type": "code",
   "execution_count": 15,
   "id": "69d73d0f-1c20-4088-b334-71d157c6c621",
   "metadata": {},
   "outputs": [
    {
     "data": {
      "text/plain": [
       "array([0.33333333, 0.33333333, 0.33333333])"
      ]
     },
     "execution_count": 15,
     "metadata": {},
     "output_type": "execute_result"
    }
   ],
   "source": [
    "policy = perf.agent.policy\n",
    "policy.predict((0,0))"
   ]
  },
  {
   "cell_type": "code",
   "execution_count": 16,
   "id": "96ee3264-e927-422a-964e-6983cdb2fe15",
   "metadata": {},
   "outputs": [
    {
     "name": "stdout",
     "output_type": "stream",
     "text": [
      "IHT full, starting to allow collisions\n"
     ]
    },
    {
     "data": {
      "image/png": "[encoded data removed]",
      "text/plain": [
       "<Figure size 1200x500 with 2 Axes>"
      ]
     },
     "metadata": {},
     "output_type": "display_data"
    }
   ],
   "source": [
    "dict_acciones = {0:\"⬅\", 1:\"N\", 2:\"➡\"}\n",
    "state_scales = [[-1.2, 0.6], [-0.07, 0.07]]\n",
    "policy_plot = PlotPolicyApprox2D(policy=perf.agent.policy,\n",
    "                                 state_scales=state_scales, \n",
    "                                 dict_acciones=dict_acciones,\n",
    "                                 mesh_size=8\n",
    "                                )\n",
    "policy_plot.best_actions_with_values(max_deci=2)"
   ]
  }
 ],
 "metadata": {
  "kernelspec": {
   "display_name": "Python 3 (ipykernel)",
   "language": "python",
   "name": "python3"
  },
  "language_info": {
   "codemirror_mode": {
    "name": "ipython",
    "version": 3
   },
   "file_extension": ".py",
   "mimetype": "text/x-python",
   "name": "python",
   "nbconvert_exporter": "python",
   "pygments_lexer": "ipython3",
   "version": "3.10.6"
  }
 },
 "nbformat": 4,
 "nbformat_minor": 5
}
