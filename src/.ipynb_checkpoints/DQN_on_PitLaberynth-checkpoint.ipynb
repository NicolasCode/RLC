{
 "cells": [
  {
   "cell_type": "markdown",
   "id": "9ec97617-1e58-42f8-a73e-d52e0141b9ea",
   "metadata": {},
   "source": [
    "# DQN on PitLaberynth"
   ]
  },
  {
   "cell_type": "code",
   "execution_count": 1,
   "id": "194acec8-d742-46de-899c-5a745664d4df",
   "metadata": {
    "tags": []
   },
   "outputs": [],
   "source": [
    "from utils.performer import Performer\n",
    "from utils.interpreters import PitL_CNN_interpreter\n",
    "from agents.deepQ import CustomCNNasQ\n",
    "import matplotlib.pyplot as plt\n",
    "import torch"
   ]
  },
  {
   "cell_type": "code",
   "execution_count": 2,
   "id": "16c5acad-2dae-4020-a0ec-842756b50227",
   "metadata": {},
   "outputs": [],
   "source": [
    "CNN_parameters = {'nA':3,\n",
    "                  'alpha':1e-3,\n",
    "                  'optimizer_class':'Adam'}\n",
    "value_approximator = CustomCNNasQ(parameters=CNN_parameters)\n",
    "#value_approximator.summary()"
   ]
  },
  {
   "cell_type": "markdown",
   "id": "3576b004-2ea6-491d-932f-b83cfddbcae9",
   "metadata": {},
   "source": [
    "# Static mode\n",
    "\n",
    "Always same initial configuration"
   ]
  },
  {
   "cell_type": "code",
   "execution_count": 9,
   "id": "957434cf-b01b-4cb0-bba3-ba5dccfb5473",
   "metadata": {},
   "outputs": [],
   "source": [
    "agent_parameters = {'nA':3,\n",
    "                    'gamma':0.99,\n",
    "                    'epsilon':0.05,\n",
    "                    'NN':value_approximator,\n",
    "                    'target_network_latency':8,\n",
    "                    'len_exp':16,\n",
    "                    'batch_size':2,\n",
    "                    'num_epochs':1,\n",
    "                    }\n",
    "env_parameters = {'mode':'static'}  # <== STATIC MODE\n",
    "perf = Performer(env_name='PitLaberynth',\n",
    "                 env_parameters=env_parameters,\n",
    "                 state_interpreter=PitL_CNN_interpreter,\n",
    "                 agent_name='agentsNN.DQN',\n",
    "                 agent_parameters=agent_parameters)"
   ]
  },
  {
   "cell_type": "code",
   "execution_count": 10,
   "id": "a982f4d6-bdce-454a-86b3-aeb118856fb9",
   "metadata": {},
   "outputs": [
    {
     "name": "stdout",
     "output_type": "stream",
     "text": [
      "Loading agent from /Notebooks/clase-rl/Talleres_codigo/Taller2/models/DQN_in_PitLaberynth/DQN_in_PitLaberynth.json\n",
      "\n",
      "----------Round 0----------\n",
      "\n",
      "\tThe state is => tensor([[[2., 3., 0., 1.],\n",
      "         [0., 4., 0., 0.],\n",
      "         [0., 0., 0., 0.],\n",
      "         [0., 0., 0., 0.]]])\n",
      "\tAgent takes action => 0\n",
      "\tThe state obtained is => tensor([[[2., 3., 0., 1.],\n",
      "         [0., 4., 0., 0.],\n",
      "         [0., 0., 0., 0.],\n",
      "         [0., 0., 0., 0.]]])\n",
      "\tThe reward obtained is => -1\n",
      "\tEnvironment is finished? => False\n",
      "\n",
      "----------Round 1----------\n",
      "\n",
      "\tThe state is => tensor([[[2., 3., 0., 1.],\n",
      "         [0., 4., 0., 0.],\n",
      "         [0., 0., 0., 0.],\n",
      "         [0., 0., 0., 0.]]])\n",
      "\tAgent takes action => 0\n",
      "\tThe state obtained is => tensor([[[2., 3., 0., 1.],\n",
      "         [0., 4., 0., 0.],\n",
      "         [0., 0., 0., 0.],\n",
      "         [0., 0., 0., 0.]]])\n",
      "\tThe reward obtained is => -1\n",
      "\tEnvironment is finished? => False\n",
      "\n",
      "----------Round 2----------\n",
      "\n",
      "\tThe state is => tensor([[[2., 3., 0., 1.],\n",
      "         [0., 4., 0., 0.],\n",
      "         [0., 0., 0., 0.],\n",
      "         [0., 0., 0., 0.]]])\n",
      "\tAgent takes action => 0\n",
      "\tThe state obtained is => tensor([[[2., 3., 0., 1.],\n",
      "         [0., 4., 0., 0.],\n",
      "         [0., 0., 0., 0.],\n",
      "         [0., 0., 0., 0.]]])\n",
      "\tThe reward obtained is => -1\n",
      "\tEnvironment is finished? => False\n",
      "\n",
      "----------Round 3----------\n",
      "\n",
      "\tThe state is => tensor([[[2., 3., 0., 1.],\n",
      "         [0., 4., 0., 0.],\n",
      "         [0., 0., 0., 0.],\n",
      "         [0., 0., 0., 0.]]])\n",
      "\tAgent takes action => 0\n",
      "\tThe state obtained is => tensor([[[2., 3., 0., 1.],\n",
      "         [0., 4., 0., 0.],\n",
      "         [0., 0., 0., 0.],\n",
      "         [0., 0., 0., 0.]]])\n",
      "\tThe reward obtained is => -1\n",
      "\tEnvironment is finished? => False\n",
      "\n",
      "----------Round 4----------\n",
      "\n",
      "\tThe state is => tensor([[[2., 3., 0., 1.],\n",
      "         [0., 4., 0., 0.],\n",
      "         [0., 0., 0., 0.],\n",
      "         [0., 0., 0., 0.]]])\n",
      "\tAgent takes action => 0\n",
      "\tThe state obtained is => tensor([[[2., 3., 0., 1.],\n",
      "         [0., 4., 0., 0.],\n",
      "         [0., 0., 0., 0.],\n",
      "         [0., 0., 0., 0.]]])\n",
      "\tThe reward obtained is => -1\n",
      "\tEnvironment is finished? => False\n",
      "Number of rounds: 5\n",
      "Total reward: -5.0\n"
     ]
    }
   ],
   "source": [
    "perf.run(num_rounds=5, visual=False, from_file=True)\n",
    "#perf.run(num_rounds=10, visual=True, from_file=True, no_exploration=True)"
   ]
  },
  {
   "cell_type": "code",
   "execution_count": null,
   "id": "09d58349-a73c-45ac-a452-dd26baf94e87",
   "metadata": {},
   "outputs": [
    {
     "data": {
      "application/vnd.jupyter.widget-view+json": {
       "model_id": "013424c64cb4448aa6a39dc2349135d5",
       "version_major": 2,
       "version_minor": 0
      },
      "text/plain": [
       "  0%|          | 0/100 [00:00<?, ?it/s]"
      ]
     },
     "metadata": {},
     "output_type": "display_data"
    }
   ],
   "source": [
    "perf.train(num_rounds=100, num_episodes=100)"
   ]
  },
  {
   "cell_type": "code",
   "execution_count": 7,
   "id": "f3425f53-d280-44f3-a9a9-6b976eadbe05",
   "metadata": {},
   "outputs": [
    {
     "name": "stdout",
     "output_type": "stream",
     "text": [
      "Loading agent from /Notebooks/clase-rl/Talleres_codigo/Taller2/models/DQN_in_PitLaberynth/DQN_in_PitLaberynth.json\n"
     ]
    },
    {
     "data": {
      "application/vnd.jupyter.widget-view+json": {
       "model_id": "9024c1b80a2f49ef9898689489ffa391",
       "version_major": 2,
       "version_minor": 0
      },
      "text/plain": [
       "  0%|          | 0/100 [00:00<?, ?it/s]"
      ]
     },
     "metadata": {},
     "output_type": "display_data"
    },
    {
     "name": "stdout",
     "output_type": "stream",
     "text": [
      "Data saved to /Notebooks/clase-rl/Talleres_codigo/Taller2/data/DQN_in_PitLaberynth/DQN_in_PitLaberynth_test_csv.csv\n",
      "Average sum of rewards:\n",
      " model\n",
      "DQN   -703.22\n",
      "Name: reward, dtype: float64\n",
      "\n",
      "Episode termination percentage:\n",
      " model\n",
      "DQN    60.0\n",
      "Name: done, dtype: float64\n",
      "Plot saved to /Notebooks/clase-rl/Talleres_codigo/Taller2/images/DQN_in_PitLaberynth/DQN_in_PitLaberynth_test.png\n"
     ]
    },
    {
     "data": {
      "image/png": "[encoded data removed]",
      "text/plain": [
       "<Figure size 400x350 with 1 Axes>"
      ]
     },
     "metadata": {},
     "output_type": "display_data"
    }
   ],
   "source": [
    "perf.test(num_rounds=200, num_episodes=100)"
   ]
  },
  {
   "cell_type": "code",
   "execution_count": 19,
   "id": "6b9acd8c-5517-4e80-a666-9afa497f030d",
   "metadata": {},
   "outputs": [
    {
     "data": {
      "text/html": [
       "<div>\n",
       "<style scoped>\n",
       "    .dataframe tbody tr th:only-of-type {\n",
       "        vertical-align: middle;\n",
       "    }\n",
       "\n",
       "    .dataframe tbody tr th {\n",
       "        vertical-align: top;\n",
       "    }\n",
       "\n",
       "    .dataframe thead th {\n",
       "        text-align: right;\n",
       "    }\n",
       "</style>\n",
       "<table border=\"1\" class=\"dataframe\">\n",
       "  <thead>\n",
       "    <tr style=\"text-align: right;\">\n",
       "      <th></th>\n",
       "      <th>Unnamed: 0</th>\n",
       "      <th>episode</th>\n",
       "      <th>round</th>\n",
       "      <th>state</th>\n",
       "      <th>action</th>\n",
       "      <th>reward</th>\n",
       "      <th>done</th>\n",
       "      <th>model</th>\n",
       "      <th>environment</th>\n",
       "      <th>id</th>\n",
       "    </tr>\n",
       "  </thead>\n",
       "  <tbody>\n",
       "    <tr>\n",
       "      <th>0</th>\n",
       "      <td>0</td>\n",
       "      <td>0</td>\n",
       "      <td>0</td>\n",
       "      <td>tensor([[[2., 3., 0., 1.],\\n         [0., 4., ...</td>\n",
       "      <td>2.0</td>\n",
       "      <td>NaN</td>\n",
       "      <td>NaN</td>\n",
       "      <td>DQN</td>\n",
       "      <td>PitLaberynth</td>\n",
       "      <td>0</td>\n",
       "    </tr>\n",
       "    <tr>\n",
       "      <th>1</th>\n",
       "      <td>1</td>\n",
       "      <td>0</td>\n",
       "      <td>1</td>\n",
       "      <td>tensor([[[2., 3., 1., 0.],\\n         [0., 4., ...</td>\n",
       "      <td>2.0</td>\n",
       "      <td>-1.0</td>\n",
       "      <td>False</td>\n",
       "      <td>DQN</td>\n",
       "      <td>PitLaberynth</td>\n",
       "      <td>0</td>\n",
       "    </tr>\n",
       "    <tr>\n",
       "      <th>2</th>\n",
       "      <td>2</td>\n",
       "      <td>0</td>\n",
       "      <td>2</td>\n",
       "      <td>tensor([[[2., 4., 0., 0.],\\n         [0., 4., ...</td>\n",
       "      <td>NaN</td>\n",
       "      <td>-10.0</td>\n",
       "      <td>True</td>\n",
       "      <td>DQN</td>\n",
       "      <td>PitLaberynth</td>\n",
       "      <td>0</td>\n",
       "    </tr>\n",
       "    <tr>\n",
       "      <th>3</th>\n",
       "      <td>3</td>\n",
       "      <td>1</td>\n",
       "      <td>0</td>\n",
       "      <td>tensor([[[2., 3., 0., 1.],\\n         [0., 4., ...</td>\n",
       "      <td>2.0</td>\n",
       "      <td>NaN</td>\n",
       "      <td>NaN</td>\n",
       "      <td>DQN</td>\n",
       "      <td>PitLaberynth</td>\n",
       "      <td>1</td>\n",
       "    </tr>\n",
       "    <tr>\n",
       "      <th>4</th>\n",
       "      <td>4</td>\n",
       "      <td>1</td>\n",
       "      <td>1</td>\n",
       "      <td>tensor([[[2., 3., 1., 0.],\\n         [0., 4., ...</td>\n",
       "      <td>2.0</td>\n",
       "      <td>-1.0</td>\n",
       "      <td>False</td>\n",
       "      <td>DQN</td>\n",
       "      <td>PitLaberynth</td>\n",
       "      <td>1</td>\n",
       "    </tr>\n",
       "  </tbody>\n",
       "</table>\n",
       "</div>"
      ],
      "text/plain": [
       "   Unnamed: 0  episode  round  \\\n",
       "0           0        0      0   \n",
       "1           1        0      1   \n",
       "2           2        0      2   \n",
       "3           3        1      0   \n",
       "4           4        1      1   \n",
       "\n",
       "                                               state  action  reward   done  \\\n",
       "0  tensor([[[2., 3., 0., 1.],\\n         [0., 4., ...     2.0     NaN    NaN   \n",
       "1  tensor([[[2., 3., 1., 0.],\\n         [0., 4., ...     2.0    -1.0  False   \n",
       "2  tensor([[[2., 4., 0., 0.],\\n         [0., 4., ...     NaN   -10.0   True   \n",
       "3  tensor([[[2., 3., 0., 1.],\\n         [0., 4., ...     2.0     NaN    NaN   \n",
       "4  tensor([[[2., 3., 1., 0.],\\n         [0., 4., ...     2.0    -1.0  False   \n",
       "\n",
       "  model   environment  id  \n",
       "0   DQN  PitLaberynth   0  \n",
       "1   DQN  PitLaberynth   0  \n",
       "2   DQN  PitLaberynth   0  \n",
       "3   DQN  PitLaberynth   1  \n",
       "4   DQN  PitLaberynth   1  "
      ]
     },
     "execution_count": 19,
     "metadata": {},
     "output_type": "execute_result"
    }
   ],
   "source": [
    "import pandas as pd\n",
    "df = pd.read_csv(perf.file_test_csv)\n",
    "df.head()"
   ]
  },
  {
   "cell_type": "code",
   "execution_count": 20,
   "id": "7750ece4-17c0-4d11-8b38-f47a9ecbaf8d",
   "metadata": {},
   "outputs": [
    {
     "data": {
      "text/plain": [
       "3    -12.0\n",
       "75   -12.0\n",
       "93   -12.0\n",
       "Name: reward, dtype: float64"
      ]
     },
     "execution_count": 20,
     "metadata": {},
     "output_type": "execute_result"
    }
   ],
   "source": [
    "df1 = df.groupby('id')['reward'].sum().reset_index()\n",
    "df1['reward'][df1['reward']<-11]"
   ]
  },
  {
   "cell_type": "code",
   "execution_count": 21,
   "id": "2bd93c78-4e53-4283-abec-5c6bc14ebd63",
   "metadata": {},
   "outputs": [
    {
     "data": {
      "text/html": [
       "<div>\n",
       "<style scoped>\n",
       "    .dataframe tbody tr th:only-of-type {\n",
       "        vertical-align: middle;\n",
       "    }\n",
       "\n",
       "    .dataframe tbody tr th {\n",
       "        vertical-align: top;\n",
       "    }\n",
       "\n",
       "    .dataframe thead th {\n",
       "        text-align: right;\n",
       "    }\n",
       "</style>\n",
       "<table border=\"1\" class=\"dataframe\">\n",
       "  <thead>\n",
       "    <tr style=\"text-align: right;\">\n",
       "      <th></th>\n",
       "      <th>Unnamed: 0</th>\n",
       "      <th>episode</th>\n",
       "      <th>round</th>\n",
       "      <th>state</th>\n",
       "      <th>action</th>\n",
       "      <th>reward</th>\n",
       "      <th>done</th>\n",
       "      <th>model</th>\n",
       "      <th>environment</th>\n",
       "      <th>id</th>\n",
       "    </tr>\n",
       "  </thead>\n",
       "  <tbody>\n",
       "    <tr>\n",
       "      <th>180</th>\n",
       "      <td>180</td>\n",
       "      <td>59</td>\n",
       "      <td>0</td>\n",
       "      <td>tensor([[[2., 3., 0., 1.],\\n         [0., 4., ...</td>\n",
       "      <td>2.0</td>\n",
       "      <td>NaN</td>\n",
       "      <td>NaN</td>\n",
       "      <td>DQN</td>\n",
       "      <td>PitLaberynth</td>\n",
       "      <td>59</td>\n",
       "    </tr>\n",
       "    <tr>\n",
       "      <th>181</th>\n",
       "      <td>181</td>\n",
       "      <td>59</td>\n",
       "      <td>1</td>\n",
       "      <td>tensor([[[2., 3., 1., 0.],\\n         [0., 4., ...</td>\n",
       "      <td>2.0</td>\n",
       "      <td>-1.0</td>\n",
       "      <td>False</td>\n",
       "      <td>DQN</td>\n",
       "      <td>PitLaberynth</td>\n",
       "      <td>59</td>\n",
       "    </tr>\n",
       "    <tr>\n",
       "      <th>182</th>\n",
       "      <td>182</td>\n",
       "      <td>59</td>\n",
       "      <td>2</td>\n",
       "      <td>tensor([[[2., 4., 0., 0.],\\n         [0., 4., ...</td>\n",
       "      <td>NaN</td>\n",
       "      <td>-10.0</td>\n",
       "      <td>True</td>\n",
       "      <td>DQN</td>\n",
       "      <td>PitLaberynth</td>\n",
       "      <td>59</td>\n",
       "    </tr>\n",
       "  </tbody>\n",
       "</table>\n",
       "</div>"
      ],
      "text/plain": [
       "     Unnamed: 0  episode  round  \\\n",
       "180         180       59      0   \n",
       "181         181       59      1   \n",
       "182         182       59      2   \n",
       "\n",
       "                                                 state  action  reward   done  \\\n",
       "180  tensor([[[2., 3., 0., 1.],\\n         [0., 4., ...     2.0     NaN    NaN   \n",
       "181  tensor([[[2., 3., 1., 0.],\\n         [0., 4., ...     2.0    -1.0  False   \n",
       "182  tensor([[[2., 4., 0., 0.],\\n         [0., 4., ...     NaN   -10.0   True   \n",
       "\n",
       "    model   environment  id  \n",
       "180   DQN  PitLaberynth  59  \n",
       "181   DQN  PitLaberynth  59  \n",
       "182   DQN  PitLaberynth  59  "
      ]
     },
     "execution_count": 21,
     "metadata": {},
     "output_type": "execute_result"
    }
   ],
   "source": [
    "df2 = pd.DataFrame(df[df['id']==59])\n",
    "df2"
   ]
  },
  {
   "cell_type": "code",
   "execution_count": 22,
   "id": "cec69e24-1685-4084-8354-abc4025d73f0",
   "metadata": {},
   "outputs": [
    {
     "data": {
      "text/html": [
       "<div>\n",
       "<style scoped>\n",
       "    .dataframe tbody tr th:only-of-type {\n",
       "        vertical-align: middle;\n",
       "    }\n",
       "\n",
       "    .dataframe tbody tr th {\n",
       "        vertical-align: top;\n",
       "    }\n",
       "\n",
       "    .dataframe thead th {\n",
       "        text-align: right;\n",
       "    }\n",
       "</style>\n",
       "<table border=\"1\" class=\"dataframe\">\n",
       "  <thead>\n",
       "    <tr style=\"text-align: right;\">\n",
       "      <th></th>\n",
       "      <th>Unnamed: 0</th>\n",
       "      <th>episode</th>\n",
       "      <th>round</th>\n",
       "      <th>state</th>\n",
       "      <th>action</th>\n",
       "      <th>reward</th>\n",
       "      <th>done</th>\n",
       "      <th>model</th>\n",
       "      <th>environment</th>\n",
       "      <th>id</th>\n",
       "    </tr>\n",
       "  </thead>\n",
       "  <tbody>\n",
       "    <tr>\n",
       "      <th>9</th>\n",
       "      <td>9</td>\n",
       "      <td>3</td>\n",
       "      <td>0</td>\n",
       "      <td>tensor([[[2., 3., 0., 1.],\\n         [0., 4., ...</td>\n",
       "      <td>2.0</td>\n",
       "      <td>NaN</td>\n",
       "      <td>NaN</td>\n",
       "      <td>DQN</td>\n",
       "      <td>PitLaberynth</td>\n",
       "      <td>3</td>\n",
       "    </tr>\n",
       "    <tr>\n",
       "      <th>10</th>\n",
       "      <td>10</td>\n",
       "      <td>3</td>\n",
       "      <td>1</td>\n",
       "      <td>tensor([[[2., 3., 1., 0.],\\n         [0., 4., ...</td>\n",
       "      <td>2.0</td>\n",
       "      <td>-1.0</td>\n",
       "      <td>False</td>\n",
       "      <td>DQN</td>\n",
       "      <td>PitLaberynth</td>\n",
       "      <td>3</td>\n",
       "    </tr>\n",
       "    <tr>\n",
       "      <th>11</th>\n",
       "      <td>11</td>\n",
       "      <td>3</td>\n",
       "      <td>2</td>\n",
       "      <td>tensor([[[2., 4., 0., 0.],\\n         [0., 4., ...</td>\n",
       "      <td>NaN</td>\n",
       "      <td>-10.0</td>\n",
       "      <td>True</td>\n",
       "      <td>DQN</td>\n",
       "      <td>PitLaberynth</td>\n",
       "      <td>3</td>\n",
       "    </tr>\n",
       "    <tr>\n",
       "      <th>12</th>\n",
       "      <td>12</td>\n",
       "      <td>3</td>\n",
       "      <td>3</td>\n",
       "      <td>tensor([[[2., 3., 0., 1.],\\n         [0., 4., ...</td>\n",
       "      <td>2.0</td>\n",
       "      <td>NaN</td>\n",
       "      <td>NaN</td>\n",
       "      <td>DQN</td>\n",
       "      <td>PitLaberynth</td>\n",
       "      <td>3</td>\n",
       "    </tr>\n",
       "    <tr>\n",
       "      <th>13</th>\n",
       "      <td>13</td>\n",
       "      <td>3</td>\n",
       "      <td>4</td>\n",
       "      <td>tensor([[[2., 3., 1., 0.],\\n         [0., 4., ...</td>\n",
       "      <td>2.0</td>\n",
       "      <td>-1.0</td>\n",
       "      <td>False</td>\n",
       "      <td>DQN</td>\n",
       "      <td>PitLaberynth</td>\n",
       "      <td>3</td>\n",
       "    </tr>\n",
       "  </tbody>\n",
       "</table>\n",
       "</div>"
      ],
      "text/plain": [
       "    Unnamed: 0  episode  round  \\\n",
       "9            9        3      0   \n",
       "10          10        3      1   \n",
       "11          11        3      2   \n",
       "12          12        3      3   \n",
       "13          13        3      4   \n",
       "\n",
       "                                                state  action  reward   done  \\\n",
       "9   tensor([[[2., 3., 0., 1.],\\n         [0., 4., ...     2.0     NaN    NaN   \n",
       "10  tensor([[[2., 3., 1., 0.],\\n         [0., 4., ...     2.0    -1.0  False   \n",
       "11  tensor([[[2., 4., 0., 0.],\\n         [0., 4., ...     NaN   -10.0   True   \n",
       "12  tensor([[[2., 3., 0., 1.],\\n         [0., 4., ...     2.0     NaN    NaN   \n",
       "13  tensor([[[2., 3., 1., 0.],\\n         [0., 4., ...     2.0    -1.0  False   \n",
       "\n",
       "   model   environment  id  \n",
       "9    DQN  PitLaberynth   3  \n",
       "10   DQN  PitLaberynth   3  \n",
       "11   DQN  PitLaberynth   3  \n",
       "12   DQN  PitLaberynth   3  \n",
       "13   DQN  PitLaberynth   3  "
      ]
     },
     "execution_count": 22,
     "metadata": {},
     "output_type": "execute_result"
    }
   ],
   "source": [
    "df2 = pd.DataFrame(df[df['id']==3])\n",
    "df2"
   ]
  },
  {
   "cell_type": "markdown",
   "id": "33e15341-cd1d-45d4-8622-5024c33895ce",
   "metadata": {},
   "source": [
    "# Player mode\n",
    "\n",
    "Player starts at a random location"
   ]
  },
  {
   "cell_type": "code",
   "execution_count": 7,
   "id": "9be90bf9-2dc5-4c2d-aa95-7658aad18029",
   "metadata": {},
   "outputs": [],
   "source": [
    "agent_parameters = {'nA':3,\n",
    "                    'gamma':0.99,\n",
    "                    'epsilon':0.05,\n",
    "                    'NN':value_approximator,\n",
    "                    'target_network_latency':32,\n",
    "                    'len_exp':128,\n",
    "                    'batch_size':4,\n",
    "                    'num_epochs':1,\n",
    "                    }\n",
    "env_parameters = {'mode':'player'}  # <== PLAYER MODE\n",
    "perf = Performer(env_name='PitLaberynth',\n",
    "                 env_parameters=env_parameters,\n",
    "                 state_interpreter=PitL_CNN_interpreter,\n",
    "                 agent_name='agentsNN.DQN',\n",
    "                 agent_parameters=agent_parameters)"
   ]
  },
  {
   "cell_type": "code",
   "execution_count": 9,
   "id": "de351f66-e8b3-4156-844d-b1f7a300a52e",
   "metadata": {},
   "outputs": [
    {
     "data": {
      "application/vnd.jupyter.widget-view+json": {
       "model_id": "10b7e418b6ab4df0b84d8aaf63282603",
       "version_major": 2,
       "version_minor": 0
      },
      "text/plain": [
       "  0%|          | 0/500 [00:00<?, ?it/s]"
      ]
     },
     "metadata": {},
     "output_type": "display_data"
    },
    {
     "name": "stdout",
     "output_type": "stream",
     "text": [
      "Data saved to /Notebooks/clase-rl/Talleres_codigo/Taller2/data/DQN_in_PitLaberynth/DQN_in_PitLaberynth.csv\n",
      "Agent saved to /Notebooks/clase-rl/Talleres_codigo/Taller2/models/DQN_in_PitLaberynth/DQN_in_PitLaberynth.json\n",
      "Plot saved to /Notebooks/clase-rl/Talleres_codigo/Taller2/images/DQN_in_PitLaberynth/DQN_in_PitLaberynth.png\n"
     ]
    },
    {
     "data": {
      "image/png": "[encoded data removed]",
      "text/plain": [
       "<Figure size 400x350 with 1 Axes>"
      ]
     },
     "metadata": {},
     "output_type": "display_data"
    },
    {
     "data": {
      "image/png": "[encoded data removed]",
      "text/plain": [
       "<Figure size 400x350 with 1 Axes>"
      ]
     },
     "metadata": {},
     "output_type": "display_data"
    }
   ],
   "source": [
    "perf.train(num_rounds=150, num_episodes=500)"
   ]
  },
  {
   "cell_type": "code",
   "execution_count": 10,
   "id": "0580eb2a-166e-4794-a86f-cb3fb191a1a3",
   "metadata": {},
   "outputs": [
    {
     "name": "stdout",
     "output_type": "stream",
     "text": [
      "Loading agent from /Notebooks/clase-rl/Talleres_codigo/Taller2/models/DQN_in_PitLaberynth/DQN_in_PitLaberynth.json\n"
     ]
    },
    {
     "data": {
      "application/vnd.jupyter.widget-view+json": {
       "model_id": "857da8af2ed64145bd672cb4cea564e8",
       "version_major": 2,
       "version_minor": 0
      },
      "text/plain": [
       "  0%|          | 0/100 [00:00<?, ?it/s]"
      ]
     },
     "metadata": {},
     "output_type": "display_data"
    },
    {
     "name": "stdout",
     "output_type": "stream",
     "text": [
      "Average sum of rewards:\n",
      " model\n",
      "DQN   -44.98\n",
      "Name: reward, dtype: float64\n",
      "\n",
      "Episode termination percentage:\n",
      " model\n",
      "DQN    299.0\n",
      "Name: done, dtype: float64\n",
      "Plot saved to /Notebooks/clase-rl/Talleres_codigo/Taller2/images/DQN_in_PitLaberynth/DQN_in_PitLaberynth_test.png\n"
     ]
    },
    {
     "data": {
      "image/png": "[encoded data removed]",
      "text/plain": [
       "<Figure size 400x350 with 1 Axes>"
      ]
     },
     "metadata": {},
     "output_type": "display_data"
    }
   ],
   "source": [
    "perf.test(num_rounds=200, num_episodes=100)"
   ]
  },
  {
   "cell_type": "markdown",
   "id": "84450299-3860-4f1d-843a-864c45e18e93",
   "metadata": {},
   "source": [
    "# Random mode\n",
    "\n",
    "Randomize initial configuration. Player, wall, pit and goal placed randomly in grid. "
   ]
  },
  {
   "cell_type": "code",
   "execution_count": 11,
   "id": "1bb29656-8989-4b8b-8812-80877b9453b3",
   "metadata": {},
   "outputs": [],
   "source": [
    "agent_parameters = {'nA':3,\n",
    "                    'gamma':0.99,\n",
    "                    'epsilon':0.05,\n",
    "                    'NN':value_approximator,\n",
    "                    'target_network_latency':32,\n",
    "                    'len_exp':128,\n",
    "                    'batch_size':4,\n",
    "                    'num_epochs':1,\n",
    "                    }\n",
    "env_parameters = {'mode':'random'}  # <== RANDOM MODE\n",
    "perf = Performer(env_name='PitLaberynth',\n",
    "                 env_parameters=env_parameters,\n",
    "                 state_interpreter=PitL_CNN_interpreter,\n",
    "                 agent_name='agentsNN.DQN',\n",
    "                 agent_parameters=agent_parameters)"
   ]
  },
  {
   "cell_type": "code",
   "execution_count": 12,
   "id": "b8d9edfd-8273-4ed6-8789-116aa1302200",
   "metadata": {},
   "outputs": [
    {
     "name": "stdout",
     "output_type": "stream",
     "text": [
      "\n",
      "----------Round 0----------\n",
      "\n",
      "\tThe state is => tensor([[[0., 0., 4., 0.],\n",
      "         [0., 1., 2., 0.],\n",
      "         [0., 3., 0., 0.],\n",
      "         [0., 0., 0., 0.]]])\n",
      "\tAgent takes action => 1\n",
      "\tThe state obtained is => tensor([[[0., 0., 4., 0.],\n",
      "         [0., 0., 2., 0.],\n",
      "         [0., 4., 0., 0.],\n",
      "         [0., 0., 0., 0.]]])\n",
      "\tThe reward obtained is => -10\n",
      "\tEnvironment is finished? => True\n",
      "Number of rounds: 1\n",
      "Total reward: -10.0\n"
     ]
    }
   ],
   "source": [
    "perf.run(num_rounds=1, visual=False)"
   ]
  },
  {
   "cell_type": "code",
   "execution_count": 13,
   "id": "e4f500d1-5b52-46e7-aba6-a79cb3257541",
   "metadata": {},
   "outputs": [
    {
     "data": {
      "application/vnd.jupyter.widget-view+json": {
       "model_id": "f6be97f1331842cfb14b7258251563c4",
       "version_major": 2,
       "version_minor": 0
      },
      "text/plain": [
       "  0%|          | 0/500 [00:00<?, ?it/s]"
      ]
     },
     "metadata": {},
     "output_type": "display_data"
    },
    {
     "ename": "KeyboardInterrupt",
     "evalue": "",
     "output_type": "error",
     "traceback": [
      "\u001b[0;31m---------------------------------------------------------------------------\u001b[0m",
      "\u001b[0;31mKeyboardInterrupt\u001b[0m                         Traceback (most recent call last)",
      "Cell \u001b[0;32mIn[13], line 1\u001b[0m\n\u001b[0;32m----> 1\u001b[0m \u001b[43mperf\u001b[49m\u001b[38;5;241;43m.\u001b[39;49m\u001b[43mtrain\u001b[49m\u001b[43m(\u001b[49m\u001b[43mnum_rounds\u001b[49m\u001b[38;5;241;43m=\u001b[39;49m\u001b[38;5;241;43m150\u001b[39;49m\u001b[43m,\u001b[49m\u001b[43m \u001b[49m\u001b[43mnum_episodes\u001b[49m\u001b[38;5;241;43m=\u001b[39;49m\u001b[38;5;241;43m500\u001b[39;49m\u001b[43m)\u001b[49m\n",
      "File \u001b[0;32m/Notebooks/clase-rl/Talleres_codigo/Taller2/src/utils/performer.py:253\u001b[0m, in \u001b[0;36mPerformer.train\u001b[0;34m(self, num_rounds, num_episodes, from_file)\u001b[0m\n\u001b[1;32m    243\u001b[0m episode \u001b[38;5;241m=\u001b[39m Episode(environment\u001b[38;5;241m=\u001b[39m\u001b[38;5;28mself\u001b[39m\u001b[38;5;241m.\u001b[39menvironment,\\\n\u001b[1;32m    244\u001b[0m                   env_name\u001b[38;5;241m=\u001b[39m\u001b[38;5;28mself\u001b[39m\u001b[38;5;241m.\u001b[39menv_name,\\\n\u001b[1;32m    245\u001b[0m                   agent\u001b[38;5;241m=\u001b[39m\u001b[38;5;28mself\u001b[39m\u001b[38;5;241m.\u001b[39magent,\\\n\u001b[0;32m   (...)\u001b[0m\n\u001b[1;32m    248\u001b[0m                   state_interpreter\u001b[38;5;241m=\u001b[39m\u001b[38;5;28mself\u001b[39m\u001b[38;5;241m.\u001b[39mstate_interpreter\n\u001b[1;32m    249\u001b[0m                   )\n\u001b[1;32m    250\u001b[0m \u001b[38;5;66;03m# lengths = f'#states:{len(episode.agent.states)} -- #actions:{len(episode.agent.actions)} -- #rewards:{len(episode.agent.rewards)} -- #dones:{len(episode.agent.dones)}'\u001b[39;00m\n\u001b[1;32m    251\u001b[0m \u001b[38;5;66;03m# print('/>', lengths)\u001b[39;00m\n\u001b[1;32m    252\u001b[0m \u001b[38;5;66;03m# Train agent\u001b[39;00m\n\u001b[0;32m--> 253\u001b[0m df \u001b[38;5;241m=\u001b[39m \u001b[43mepisode\u001b[49m\u001b[38;5;241;43m.\u001b[39;49m\u001b[43msimulate\u001b[49m\u001b[43m(\u001b[49m\u001b[43mnum_episodes\u001b[49m\u001b[38;5;241;43m=\u001b[39;49m\u001b[43mnum_episodes\u001b[49m\u001b[43m,\u001b[49m\u001b[43m \u001b[49m\u001b[43mfile\u001b[49m\u001b[38;5;241;43m=\u001b[39;49m\u001b[38;5;28;43mself\u001b[39;49m\u001b[38;5;241;43m.\u001b[39;49m\u001b[43mfile_csv\u001b[49m\u001b[43m)\u001b[49m\n\u001b[1;32m    254\u001b[0m \u001b[38;5;28mself\u001b[39m\u001b[38;5;241m.\u001b[39mdata \u001b[38;5;241m=\u001b[39m df\n\u001b[1;32m    255\u001b[0m \u001b[38;5;28mprint\u001b[39m(\u001b[38;5;124mf\u001b[39m\u001b[38;5;124m'\u001b[39m\u001b[38;5;124mData saved to \u001b[39m\u001b[38;5;132;01m{\u001b[39;00m\u001b[38;5;28mself\u001b[39m\u001b[38;5;241m.\u001b[39mfile_csv\u001b[38;5;132;01m}\u001b[39;00m\u001b[38;5;124m'\u001b[39m)\n",
      "File \u001b[0;32m/Notebooks/clase-rl/Talleres_codigo/Taller2/src/utils/interaction.py:278\u001b[0m, in \u001b[0;36mEpisode.simulate\u001b[0;34m(self, num_episodes, file, verbose, learn)\u001b[0m\n\u001b[1;32m    274\u001b[0m \u001b[38;5;28mself\u001b[39m\u001b[38;5;241m.\u001b[39mid \u001b[38;5;241m=\u001b[39m ep\n\u001b[1;32m    275\u001b[0m \u001b[38;5;66;03m# Run the episode\u001b[39;00m\n\u001b[1;32m    276\u001b[0m \u001b[38;5;66;03m# lengths = f'#states:{len(self.agent.states)} -- #actions:{len(self.agent.actions)} -- #rewards:{len(self.agent.rewards)} -- #dones:{len(self.agent.dones)}'\u001b[39;00m\n\u001b[1;32m    277\u001b[0m \u001b[38;5;66;03m# print('///>', lengths)\u001b[39;00m\n\u001b[0;32m--> 278\u001b[0m df \u001b[38;5;241m=\u001b[39m \u001b[38;5;28;43mself\u001b[39;49m\u001b[38;5;241;43m.\u001b[39;49m\u001b[43mrun\u001b[49m\u001b[43m(\u001b[49m\u001b[43mverbose\u001b[49m\u001b[38;5;241;43m=\u001b[39;49m\u001b[43mverbose\u001b[49m\u001b[43m,\u001b[49m\u001b[43m \u001b[49m\u001b[43mlearn\u001b[49m\u001b[38;5;241;43m=\u001b[39;49m\u001b[43mlearn\u001b[49m\u001b[43m)\u001b[49m\n\u001b[1;32m    279\u001b[0m \u001b[38;5;66;03m# Include episode in list of dataframes\u001b[39;00m\n\u001b[1;32m    280\u001b[0m data_frames\u001b[38;5;241m.\u001b[39mappend(df)\n",
      "File \u001b[0;32m/Notebooks/clase-rl/Talleres_codigo/Taller2/src/utils/interaction.py:126\u001b[0m, in \u001b[0;36mEpisode.run\u001b[0;34m(self, verbose, learn)\u001b[0m\n\u001b[1;32m    124\u001b[0m     \u001b[38;5;28;01mif\u001b[39;00m verbose \u001b[38;5;241m>\u001b[39m \u001b[38;5;241m2\u001b[39m:\n\u001b[1;32m    125\u001b[0m         \u001b[38;5;28mprint\u001b[39m(\u001b[38;5;124m'\u001b[39m\u001b[38;5;130;01m\\n\u001b[39;00m\u001b[38;5;124m'\u001b[39m \u001b[38;5;241m+\u001b[39m \u001b[38;5;124m'\u001b[39m\u001b[38;5;124m-\u001b[39m\u001b[38;5;124m'\u001b[39m\u001b[38;5;241m*\u001b[39m\u001b[38;5;241m10\u001b[39m \u001b[38;5;241m+\u001b[39m \u001b[38;5;124mf\u001b[39m\u001b[38;5;124m'\u001b[39m\u001b[38;5;124mRound \u001b[39m\u001b[38;5;132;01m{\u001b[39;00m\u001b[38;5;28mround\u001b[39m\u001b[38;5;132;01m}\u001b[39;00m\u001b[38;5;124m'\u001b[39m \u001b[38;5;241m+\u001b[39m \u001b[38;5;124m'\u001b[39m\u001b[38;5;124m-\u001b[39m\u001b[38;5;124m'\u001b[39m\u001b[38;5;241m*\u001b[39m\u001b[38;5;241m10\u001b[39m \u001b[38;5;241m+\u001b[39m \u001b[38;5;124m'\u001b[39m\u001b[38;5;130;01m\\n\u001b[39;00m\u001b[38;5;124m'\u001b[39m)\n\u001b[0;32m--> 126\u001b[0m     \u001b[38;5;28;43mself\u001b[39;49m\u001b[38;5;241;43m.\u001b[39;49m\u001b[43mplay_round\u001b[49m\u001b[43m(\u001b[49m\u001b[43mverbose\u001b[49m\u001b[38;5;241;43m=\u001b[39;49m\u001b[43mverbose\u001b[49m\u001b[43m,\u001b[49m\u001b[43m \u001b[49m\u001b[43mlearn\u001b[49m\u001b[38;5;241;43m=\u001b[39;49m\u001b[43mlearn\u001b[49m\u001b[43m)\u001b[49m                \n\u001b[1;32m    127\u001b[0m \u001b[38;5;28;01melse\u001b[39;00m:\n\u001b[1;32m    128\u001b[0m     \u001b[38;5;28;01mbreak\u001b[39;00m\n",
      "File \u001b[0;32m/Notebooks/clase-rl/Talleres_codigo/Taller2/src/utils/interaction.py:96\u001b[0m, in \u001b[0;36mEpisode.play_round\u001b[0;34m(self, verbose, learn)\u001b[0m\n\u001b[1;32m     92\u001b[0m \u001b[38;5;66;03m# lengths = f'#states:{len(self.agent.states)} -- #actions:{len(self.agent.actions)} -- #rewards:{len(self.agent.rewards)} -- #dones:{len(self.agent.dones)}'\u001b[39;00m\n\u001b[1;32m     93\u001b[0m \u001b[38;5;66;03m# print('=>', lengths)\u001b[39;00m\n\u001b[1;32m     94\u001b[0m \u001b[38;5;66;03m# Agent learns\u001b[39;00m\n\u001b[1;32m     95\u001b[0m \u001b[38;5;28;01mif\u001b[39;00m learn:\n\u001b[0;32m---> 96\u001b[0m     \u001b[38;5;28;43mself\u001b[39;49m\u001b[38;5;241;43m.\u001b[39;49m\u001b[43magent\u001b[49m\u001b[38;5;241;43m.\u001b[39;49m\u001b[43mupdate\u001b[49m\u001b[43m(\u001b[49m\u001b[43mnext_state\u001b[49m\u001b[43m,\u001b[49m\u001b[43m \u001b[49m\u001b[43mreward\u001b[49m\u001b[43m,\u001b[49m\u001b[43m \u001b[49m\u001b[43mdone\u001b[49m\u001b[43m)\u001b[49m\n\u001b[1;32m     97\u001b[0m \u001b[38;5;66;03m# Update records\u001b[39;00m\n\u001b[1;32m     98\u001b[0m \u001b[38;5;66;03m# lengths = f'#states:{len(self.agent.states)} -- #actions:{len(self.agent.actions)} -- #rewards:{len(self.agent.rewards)} -- #dones:{len(self.agent.dones)}'\u001b[39;00m\n\u001b[1;32m     99\u001b[0m \u001b[38;5;66;03m# print('==>', lengths)\u001b[39;00m\n\u001b[1;32m    100\u001b[0m \u001b[38;5;28mself\u001b[39m\u001b[38;5;241m.\u001b[39magent\u001b[38;5;241m.\u001b[39mstates\u001b[38;5;241m.\u001b[39mappend(next_state)\n",
      "File \u001b[0;32m/Notebooks/clase-rl/Talleres_codigo/Taller2/src/agents/agentsNN.py:51\u001b[0m, in \u001b[0;36mDQN.update\u001b[0;34m(self, next_state, reward, done)\u001b[0m\n\u001b[1;32m     48\u001b[0m \u001b[38;5;66;03m# Train for number of epochs\u001b[39;00m\n\u001b[1;32m     49\u001b[0m \u001b[38;5;66;03m# print('Training...')\u001b[39;00m\n\u001b[1;32m     50\u001b[0m \u001b[38;5;28;01mfor\u001b[39;00m e \u001b[38;5;129;01min\u001b[39;00m \u001b[38;5;28mrange\u001b[39m(\u001b[38;5;28mself\u001b[39m\u001b[38;5;241m.\u001b[39mnum_epochs):\n\u001b[0;32m---> 51\u001b[0m     \u001b[38;5;28;43mself\u001b[39;49m\u001b[38;5;241;43m.\u001b[39;49m\u001b[43mNN\u001b[49m\u001b[38;5;241;43m.\u001b[39;49m\u001b[43mlearn\u001b[49m\u001b[43m(\u001b[49m\u001b[43mds_loader\u001b[49m\u001b[43m)\u001b[49m\n\u001b[1;32m     52\u001b[0m \u001b[38;5;66;03m# Check if it's turn to update the target network\u001b[39;00m\n\u001b[1;32m     53\u001b[0m \u001b[38;5;28;01mif\u001b[39;00m \u001b[38;5;28mlen\u001b[39m(\u001b[38;5;28mself\u001b[39m\u001b[38;5;241m.\u001b[39mactions) \u001b[38;5;241m%\u001b[39m \u001b[38;5;28mself\u001b[39m\u001b[38;5;241m.\u001b[39mtarget_network_latency \u001b[38;5;241m==\u001b[39m \u001b[38;5;241m0\u001b[39m \u001b[38;5;129;01mor\u001b[39;00m done:\n\u001b[1;32m     54\u001b[0m     \u001b[38;5;66;03m# print('Updating Target Network')\u001b[39;00m\n",
      "File \u001b[0;32m/Notebooks/clase-rl/Talleres_codigo/Taller2/src/agents/deepQ.py:59\u001b[0m, in \u001b[0;36mNNasQ.learn\u001b[0;34m(self, ds_loader)\u001b[0m\n\u001b[1;32m     57\u001b[0m \u001b[38;5;28mself\u001b[39m\u001b[38;5;241m.\u001b[39moptimizer\u001b[38;5;241m.\u001b[39mzero_grad()\n\u001b[1;32m     58\u001b[0m \u001b[38;5;66;03m# Get the batch predicted values\u001b[39;00m\n\u001b[0;32m---> 59\u001b[0m batch_qvals \u001b[38;5;241m=\u001b[39m \u001b[38;5;28;43mself\u001b[39;49m\u001b[38;5;241;43m.\u001b[39;49m\u001b[43mNN\u001b[49m\u001b[38;5;241;43m.\u001b[39;49m\u001b[43mforward\u001b[49m\u001b[43m(\u001b[49m\u001b[43mbatch_states\u001b[49m\u001b[43m)\u001b[49m\n\u001b[1;32m     60\u001b[0m \u001b[38;5;66;03m# Confirm the number of actions\u001b[39;00m\n\u001b[1;32m     61\u001b[0m nA \u001b[38;5;241m=\u001b[39m \u001b[38;5;28mself\u001b[39m\u001b[38;5;241m.\u001b[39mparameters[\u001b[38;5;124m\"\u001b[39m\u001b[38;5;124mnA\u001b[39m\u001b[38;5;124m\"\u001b[39m]\n",
      "File \u001b[0;32m/Notebooks/clase-rl/Talleres_codigo/Taller2/src/agents/networks.py:92\u001b[0m, in \u001b[0;36mCustomCNN.forward\u001b[0;34m(self, x_in)\u001b[0m\n\u001b[1;32m     90\u001b[0m         \u001b[38;5;28;01melse\u001b[39;00m:\n\u001b[1;32m     91\u001b[0m             \u001b[38;5;28;01mraise\u001b[39;00m \u001b[38;5;167;01mException\u001b[39;00m(\u001b[38;5;124m'\u001b[39m\u001b[38;5;124mWhaaaat!\u001b[39m\u001b[38;5;124m'\u001b[39m)\n\u001b[0;32m---> 92\u001b[0m     X \u001b[38;5;241m=\u001b[39m \u001b[43mlayer\u001b[49m\u001b[43m(\u001b[49m\u001b[43mX\u001b[49m\u001b[43m)\u001b[49m\n\u001b[1;32m     93\u001b[0m \u001b[38;5;28;01mreturn\u001b[39;00m X\n",
      "File \u001b[0;32m/usr/local/lib/python3.10/dist-packages/torch/nn/modules/module.py:1501\u001b[0m, in \u001b[0;36mModule._call_impl\u001b[0;34m(self, *args, **kwargs)\u001b[0m\n\u001b[1;32m   1496\u001b[0m \u001b[38;5;66;03m# If we don't have any hooks, we want to skip the rest of the logic in\u001b[39;00m\n\u001b[1;32m   1497\u001b[0m \u001b[38;5;66;03m# this function, and just call forward.\u001b[39;00m\n\u001b[1;32m   1498\u001b[0m \u001b[38;5;28;01mif\u001b[39;00m \u001b[38;5;129;01mnot\u001b[39;00m (\u001b[38;5;28mself\u001b[39m\u001b[38;5;241m.\u001b[39m_backward_hooks \u001b[38;5;129;01mor\u001b[39;00m \u001b[38;5;28mself\u001b[39m\u001b[38;5;241m.\u001b[39m_backward_pre_hooks \u001b[38;5;129;01mor\u001b[39;00m \u001b[38;5;28mself\u001b[39m\u001b[38;5;241m.\u001b[39m_forward_hooks \u001b[38;5;129;01mor\u001b[39;00m \u001b[38;5;28mself\u001b[39m\u001b[38;5;241m.\u001b[39m_forward_pre_hooks\n\u001b[1;32m   1499\u001b[0m         \u001b[38;5;129;01mor\u001b[39;00m _global_backward_pre_hooks \u001b[38;5;129;01mor\u001b[39;00m _global_backward_hooks\n\u001b[1;32m   1500\u001b[0m         \u001b[38;5;129;01mor\u001b[39;00m _global_forward_hooks \u001b[38;5;129;01mor\u001b[39;00m _global_forward_pre_hooks):\n\u001b[0;32m-> 1501\u001b[0m     \u001b[38;5;28;01mreturn\u001b[39;00m \u001b[43mforward_call\u001b[49m\u001b[43m(\u001b[49m\u001b[38;5;241;43m*\u001b[39;49m\u001b[43margs\u001b[49m\u001b[43m,\u001b[49m\u001b[43m \u001b[49m\u001b[38;5;241;43m*\u001b[39;49m\u001b[38;5;241;43m*\u001b[39;49m\u001b[43mkwargs\u001b[49m\u001b[43m)\u001b[49m\n\u001b[1;32m   1502\u001b[0m \u001b[38;5;66;03m# Do not call functions when jit is used\u001b[39;00m\n\u001b[1;32m   1503\u001b[0m full_backward_hooks, non_full_backward_hooks \u001b[38;5;241m=\u001b[39m [], []\n",
      "File \u001b[0;32m/usr/local/lib/python3.10/dist-packages/torch/nn/modules/conv.py:463\u001b[0m, in \u001b[0;36mConv2d.forward\u001b[0;34m(self, input)\u001b[0m\n\u001b[1;32m    462\u001b[0m \u001b[38;5;28;01mdef\u001b[39;00m \u001b[38;5;21mforward\u001b[39m(\u001b[38;5;28mself\u001b[39m, \u001b[38;5;28minput\u001b[39m: Tensor) \u001b[38;5;241m-\u001b[39m\u001b[38;5;241m>\u001b[39m Tensor:\n\u001b[0;32m--> 463\u001b[0m     \u001b[38;5;28;01mreturn\u001b[39;00m \u001b[38;5;28;43mself\u001b[39;49m\u001b[38;5;241;43m.\u001b[39;49m\u001b[43m_conv_forward\u001b[49m\u001b[43m(\u001b[49m\u001b[38;5;28;43minput\u001b[39;49m\u001b[43m,\u001b[49m\u001b[43m \u001b[49m\u001b[38;5;28;43mself\u001b[39;49m\u001b[38;5;241;43m.\u001b[39;49m\u001b[43mweight\u001b[49m\u001b[43m,\u001b[49m\u001b[43m \u001b[49m\u001b[38;5;28;43mself\u001b[39;49m\u001b[38;5;241;43m.\u001b[39;49m\u001b[43mbias\u001b[49m\u001b[43m)\u001b[49m\n",
      "File \u001b[0;32m/usr/local/lib/python3.10/dist-packages/torch/nn/modules/conv.py:459\u001b[0m, in \u001b[0;36mConv2d._conv_forward\u001b[0;34m(self, input, weight, bias)\u001b[0m\n\u001b[1;32m    455\u001b[0m \u001b[38;5;28;01mif\u001b[39;00m \u001b[38;5;28mself\u001b[39m\u001b[38;5;241m.\u001b[39mpadding_mode \u001b[38;5;241m!=\u001b[39m \u001b[38;5;124m'\u001b[39m\u001b[38;5;124mzeros\u001b[39m\u001b[38;5;124m'\u001b[39m:\n\u001b[1;32m    456\u001b[0m     \u001b[38;5;28;01mreturn\u001b[39;00m F\u001b[38;5;241m.\u001b[39mconv2d(F\u001b[38;5;241m.\u001b[39mpad(\u001b[38;5;28minput\u001b[39m, \u001b[38;5;28mself\u001b[39m\u001b[38;5;241m.\u001b[39m_reversed_padding_repeated_twice, mode\u001b[38;5;241m=\u001b[39m\u001b[38;5;28mself\u001b[39m\u001b[38;5;241m.\u001b[39mpadding_mode),\n\u001b[1;32m    457\u001b[0m                     weight, bias, \u001b[38;5;28mself\u001b[39m\u001b[38;5;241m.\u001b[39mstride,\n\u001b[1;32m    458\u001b[0m                     _pair(\u001b[38;5;241m0\u001b[39m), \u001b[38;5;28mself\u001b[39m\u001b[38;5;241m.\u001b[39mdilation, \u001b[38;5;28mself\u001b[39m\u001b[38;5;241m.\u001b[39mgroups)\n\u001b[0;32m--> 459\u001b[0m \u001b[38;5;28;01mreturn\u001b[39;00m \u001b[43mF\u001b[49m\u001b[38;5;241;43m.\u001b[39;49m\u001b[43mconv2d\u001b[49m\u001b[43m(\u001b[49m\u001b[38;5;28;43minput\u001b[39;49m\u001b[43m,\u001b[49m\u001b[43m \u001b[49m\u001b[43mweight\u001b[49m\u001b[43m,\u001b[49m\u001b[43m \u001b[49m\u001b[43mbias\u001b[49m\u001b[43m,\u001b[49m\u001b[43m \u001b[49m\u001b[38;5;28;43mself\u001b[39;49m\u001b[38;5;241;43m.\u001b[39;49m\u001b[43mstride\u001b[49m\u001b[43m,\u001b[49m\n\u001b[1;32m    460\u001b[0m \u001b[43m                \u001b[49m\u001b[38;5;28;43mself\u001b[39;49m\u001b[38;5;241;43m.\u001b[39;49m\u001b[43mpadding\u001b[49m\u001b[43m,\u001b[49m\u001b[43m \u001b[49m\u001b[38;5;28;43mself\u001b[39;49m\u001b[38;5;241;43m.\u001b[39;49m\u001b[43mdilation\u001b[49m\u001b[43m,\u001b[49m\u001b[43m \u001b[49m\u001b[38;5;28;43mself\u001b[39;49m\u001b[38;5;241;43m.\u001b[39;49m\u001b[43mgroups\u001b[49m\u001b[43m)\u001b[49m\n",
      "\u001b[0;31mKeyboardInterrupt\u001b[0m: "
     ]
    }
   ],
   "source": [
    "perf.train(num_rounds=150, num_episodes=500)"
   ]
  },
  {
   "cell_type": "code",
   "execution_count": null,
   "id": "3bece3e8-93f8-4b56-b1cc-187e94effcc7",
   "metadata": {},
   "outputs": [],
   "source": [
    "perf.test(num_rounds=200, num_episodes=100)"
   ]
  },
  {
   "cell_type": "code",
   "execution_count": null,
   "id": "b8d547a2-ef14-492a-8d76-b4b17f61dc5b",
   "metadata": {},
   "outputs": [],
   "source": [
    "perf.run(from_file=True, no_exploration=True, to_video=True, num_rounds=200)"
   ]
  },
  {
   "cell_type": "code",
   "execution_count": null,
   "id": "7a0de0ae-eed3-4a7a-90fe-da72ecea7620",
   "metadata": {},
   "outputs": [],
   "source": []
  },
  {
   "cell_type": "code",
   "execution_count": null,
   "id": "f484342a-c2bf-48a1-8c6c-c0100ef7bf31",
   "metadata": {},
   "outputs": [],
   "source": []
  }
 ],
 "metadata": {
  "kernelspec": {
   "display_name": "Python 3 (ipykernel)",
   "language": "python",
   "name": "python3"
  },
  "language_info": {
   "codemirror_mode": {
    "name": "ipython",
    "version": 3
   },
   "file_extension": ".py",
   "mimetype": "text/x-python",
   "name": "python",
   "nbconvert_exporter": "python",
   "pygments_lexer": "ipython3",
   "version": "3.10.6"
  }
 },
 "nbformat": 4,
 "nbformat_minor": 5
}
